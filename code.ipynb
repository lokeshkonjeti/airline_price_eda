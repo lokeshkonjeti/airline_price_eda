{
 "cells": [
  {
   "cell_type": "code",
   "execution_count": 1,
   "id": "1da48974",
   "metadata": {},
   "outputs": [],
   "source": [
    "#Importing necessary libraries for processing and visualizing the dataset\n",
    "import pandas as pd\n",
    "import matplotlib.pyplot as plt\n",
    "import seaborn as sns\n",
    "from sklearn.preprocessing import LabelEncoder, OneHotEncoder"
   ]
  },
  {
   "cell_type": "code",
   "execution_count": 2,
   "id": "00c485cf",
   "metadata": {},
   "outputs": [
    {
     "name": "stdout",
     "output_type": "stream",
     "text": [
      "Total records in train set: 10683\n",
      "Total records in test set: 2671\n"
     ]
    }
   ],
   "source": [
    "#Loading the dataset(Train and Test datasets) as dataframe\n",
    "df_train=pd.read_csv(\"dataset/Data_Train.csv\")\n",
    "df_test=pd.read_csv(\"dataset/Test_set.csv\")\n",
    "print(\"Total records in train set:\",len(df_train))\n",
    "print(\"Total records in test set:\",len(df_test))"
   ]
  },
  {
   "cell_type": "code",
   "execution_count": 3,
   "id": "34bc6f7a",
   "metadata": {},
   "outputs": [],
   "source": [
    "#Concatenating the datasets into a single dataframe and storing it in a file\n",
    "df=pd.concat([df_train,df_test])\n",
    "df.to_csv(\"combined_data.csv\",sep=',')\n",
    "df = pd.read_csv('combined_data.csv')"
   ]
  },
  {
   "cell_type": "code",
   "execution_count": 4,
   "id": "6f1dc30d",
   "metadata": {},
   "outputs": [
    {
     "data": {
      "text/html": [
       "<div>\n",
       "<style scoped>\n",
       "    .dataframe tbody tr th:only-of-type {\n",
       "        vertical-align: middle;\n",
       "    }\n",
       "\n",
       "    .dataframe tbody tr th {\n",
       "        vertical-align: top;\n",
       "    }\n",
       "\n",
       "    .dataframe thead th {\n",
       "        text-align: right;\n",
       "    }\n",
       "</style>\n",
       "<table border=\"1\" class=\"dataframe\">\n",
       "  <thead>\n",
       "    <tr style=\"text-align: right;\">\n",
       "      <th></th>\n",
       "      <th>Unnamed: 0</th>\n",
       "      <th>Airline</th>\n",
       "      <th>Date_of_Journey</th>\n",
       "      <th>Source</th>\n",
       "      <th>Destination</th>\n",
       "      <th>Route</th>\n",
       "      <th>Dep_Time</th>\n",
       "      <th>Arrival_Time</th>\n",
       "      <th>Duration</th>\n",
       "      <th>Total_Stops</th>\n",
       "      <th>Additional_Info</th>\n",
       "      <th>Price</th>\n",
       "    </tr>\n",
       "  </thead>\n",
       "  <tbody>\n",
       "    <tr>\n",
       "      <th>0</th>\n",
       "      <td>0</td>\n",
       "      <td>IndiGo</td>\n",
       "      <td>24/03/2019</td>\n",
       "      <td>Banglore</td>\n",
       "      <td>New Delhi</td>\n",
       "      <td>BLR ? DEL</td>\n",
       "      <td>22:20</td>\n",
       "      <td>01:10 22 Mar</td>\n",
       "      <td>2h 50m</td>\n",
       "      <td>non-stop</td>\n",
       "      <td>No info</td>\n",
       "      <td>3897.0</td>\n",
       "    </tr>\n",
       "    <tr>\n",
       "      <th>1</th>\n",
       "      <td>1</td>\n",
       "      <td>Air India</td>\n",
       "      <td>1/05/2019</td>\n",
       "      <td>Kolkata</td>\n",
       "      <td>Banglore</td>\n",
       "      <td>CCU ? IXR ? BBI ? BLR</td>\n",
       "      <td>05:50</td>\n",
       "      <td>13:15</td>\n",
       "      <td>7h 25m</td>\n",
       "      <td>2 stops</td>\n",
       "      <td>No info</td>\n",
       "      <td>7662.0</td>\n",
       "    </tr>\n",
       "    <tr>\n",
       "      <th>2</th>\n",
       "      <td>2</td>\n",
       "      <td>Jet Airways</td>\n",
       "      <td>9/06/2019</td>\n",
       "      <td>Delhi</td>\n",
       "      <td>Cochin</td>\n",
       "      <td>DEL ? LKO ? BOM ? COK</td>\n",
       "      <td>09:25</td>\n",
       "      <td>04:25 10 Jun</td>\n",
       "      <td>19h</td>\n",
       "      <td>2 stops</td>\n",
       "      <td>No info</td>\n",
       "      <td>13882.0</td>\n",
       "    </tr>\n",
       "    <tr>\n",
       "      <th>3</th>\n",
       "      <td>3</td>\n",
       "      <td>IndiGo</td>\n",
       "      <td>12/05/2019</td>\n",
       "      <td>Kolkata</td>\n",
       "      <td>Banglore</td>\n",
       "      <td>CCU ? NAG ? BLR</td>\n",
       "      <td>18:05</td>\n",
       "      <td>23:30</td>\n",
       "      <td>5h 25m</td>\n",
       "      <td>1 stop</td>\n",
       "      <td>No info</td>\n",
       "      <td>6218.0</td>\n",
       "    </tr>\n",
       "    <tr>\n",
       "      <th>4</th>\n",
       "      <td>4</td>\n",
       "      <td>IndiGo</td>\n",
       "      <td>01/03/2019</td>\n",
       "      <td>Banglore</td>\n",
       "      <td>New Delhi</td>\n",
       "      <td>BLR ? NAG ? DEL</td>\n",
       "      <td>16:50</td>\n",
       "      <td>21:35</td>\n",
       "      <td>4h 45m</td>\n",
       "      <td>1 stop</td>\n",
       "      <td>No info</td>\n",
       "      <td>13302.0</td>\n",
       "    </tr>\n",
       "  </tbody>\n",
       "</table>\n",
       "</div>"
      ],
      "text/plain": [
       "   Unnamed: 0      Airline Date_of_Journey    Source Destination  \\\n",
       "0           0       IndiGo      24/03/2019  Banglore   New Delhi   \n",
       "1           1    Air India       1/05/2019   Kolkata    Banglore   \n",
       "2           2  Jet Airways       9/06/2019     Delhi      Cochin   \n",
       "3           3       IndiGo      12/05/2019   Kolkata    Banglore   \n",
       "4           4       IndiGo      01/03/2019  Banglore   New Delhi   \n",
       "\n",
       "                   Route Dep_Time  Arrival_Time Duration Total_Stops  \\\n",
       "0              BLR ? DEL    22:20  01:10 22 Mar   2h 50m    non-stop   \n",
       "1  CCU ? IXR ? BBI ? BLR    05:50         13:15   7h 25m     2 stops   \n",
       "2  DEL ? LKO ? BOM ? COK    09:25  04:25 10 Jun      19h     2 stops   \n",
       "3        CCU ? NAG ? BLR    18:05         23:30   5h 25m      1 stop   \n",
       "4        BLR ? NAG ? DEL    16:50         21:35   4h 45m      1 stop   \n",
       "\n",
       "  Additional_Info    Price  \n",
       "0         No info   3897.0  \n",
       "1         No info   7662.0  \n",
       "2         No info  13882.0  \n",
       "3         No info   6218.0  \n",
       "4         No info  13302.0  "
      ]
     },
     "execution_count": 4,
     "metadata": {},
     "output_type": "execute_result"
    }
   ],
   "source": [
    "#Displaying top 5 records in the dataframe\n",
    "df.head()"
   ]
  },
  {
   "cell_type": "code",
   "execution_count": 5,
   "id": "18e17379",
   "metadata": {},
   "outputs": [
    {
     "data": {
      "text/html": [
       "<div>\n",
       "<style scoped>\n",
       "    .dataframe tbody tr th:only-of-type {\n",
       "        vertical-align: middle;\n",
       "    }\n",
       "\n",
       "    .dataframe tbody tr th {\n",
       "        vertical-align: top;\n",
       "    }\n",
       "\n",
       "    .dataframe thead th {\n",
       "        text-align: right;\n",
       "    }\n",
       "</style>\n",
       "<table border=\"1\" class=\"dataframe\">\n",
       "  <thead>\n",
       "    <tr style=\"text-align: right;\">\n",
       "      <th></th>\n",
       "      <th>Airline</th>\n",
       "      <th>Date_of_Journey</th>\n",
       "      <th>Source</th>\n",
       "      <th>Destination</th>\n",
       "      <th>Route</th>\n",
       "      <th>Dep_Time</th>\n",
       "      <th>Arrival_Time</th>\n",
       "      <th>Duration</th>\n",
       "      <th>Total_Stops</th>\n",
       "      <th>Additional_Info</th>\n",
       "      <th>Price</th>\n",
       "    </tr>\n",
       "  </thead>\n",
       "  <tbody>\n",
       "    <tr>\n",
       "      <th>0</th>\n",
       "      <td>IndiGo</td>\n",
       "      <td>24/03/2019</td>\n",
       "      <td>Banglore</td>\n",
       "      <td>New Delhi</td>\n",
       "      <td>BLR ? DEL</td>\n",
       "      <td>22:20</td>\n",
       "      <td>01:10 22 Mar</td>\n",
       "      <td>2h 50m</td>\n",
       "      <td>non-stop</td>\n",
       "      <td>No info</td>\n",
       "      <td>3897.0</td>\n",
       "    </tr>\n",
       "    <tr>\n",
       "      <th>1</th>\n",
       "      <td>Air India</td>\n",
       "      <td>1/05/2019</td>\n",
       "      <td>Kolkata</td>\n",
       "      <td>Banglore</td>\n",
       "      <td>CCU ? IXR ? BBI ? BLR</td>\n",
       "      <td>05:50</td>\n",
       "      <td>13:15</td>\n",
       "      <td>7h 25m</td>\n",
       "      <td>2 stops</td>\n",
       "      <td>No info</td>\n",
       "      <td>7662.0</td>\n",
       "    </tr>\n",
       "    <tr>\n",
       "      <th>2</th>\n",
       "      <td>Jet Airways</td>\n",
       "      <td>9/06/2019</td>\n",
       "      <td>Delhi</td>\n",
       "      <td>Cochin</td>\n",
       "      <td>DEL ? LKO ? BOM ? COK</td>\n",
       "      <td>09:25</td>\n",
       "      <td>04:25 10 Jun</td>\n",
       "      <td>19h</td>\n",
       "      <td>2 stops</td>\n",
       "      <td>No info</td>\n",
       "      <td>13882.0</td>\n",
       "    </tr>\n",
       "    <tr>\n",
       "      <th>3</th>\n",
       "      <td>IndiGo</td>\n",
       "      <td>12/05/2019</td>\n",
       "      <td>Kolkata</td>\n",
       "      <td>Banglore</td>\n",
       "      <td>CCU ? NAG ? BLR</td>\n",
       "      <td>18:05</td>\n",
       "      <td>23:30</td>\n",
       "      <td>5h 25m</td>\n",
       "      <td>1 stop</td>\n",
       "      <td>No info</td>\n",
       "      <td>6218.0</td>\n",
       "    </tr>\n",
       "    <tr>\n",
       "      <th>4</th>\n",
       "      <td>IndiGo</td>\n",
       "      <td>01/03/2019</td>\n",
       "      <td>Banglore</td>\n",
       "      <td>New Delhi</td>\n",
       "      <td>BLR ? NAG ? DEL</td>\n",
       "      <td>16:50</td>\n",
       "      <td>21:35</td>\n",
       "      <td>4h 45m</td>\n",
       "      <td>1 stop</td>\n",
       "      <td>No info</td>\n",
       "      <td>13302.0</td>\n",
       "    </tr>\n",
       "  </tbody>\n",
       "</table>\n",
       "</div>"
      ],
      "text/plain": [
       "       Airline Date_of_Journey    Source Destination                  Route  \\\n",
       "0       IndiGo      24/03/2019  Banglore   New Delhi              BLR ? DEL   \n",
       "1    Air India       1/05/2019   Kolkata    Banglore  CCU ? IXR ? BBI ? BLR   \n",
       "2  Jet Airways       9/06/2019     Delhi      Cochin  DEL ? LKO ? BOM ? COK   \n",
       "3       IndiGo      12/05/2019   Kolkata    Banglore        CCU ? NAG ? BLR   \n",
       "4       IndiGo      01/03/2019  Banglore   New Delhi        BLR ? NAG ? DEL   \n",
       "\n",
       "  Dep_Time  Arrival_Time Duration Total_Stops Additional_Info    Price  \n",
       "0    22:20  01:10 22 Mar   2h 50m    non-stop         No info   3897.0  \n",
       "1    05:50         13:15   7h 25m     2 stops         No info   7662.0  \n",
       "2    09:25  04:25 10 Jun      19h     2 stops         No info  13882.0  \n",
       "3    18:05         23:30   5h 25m      1 stop         No info   6218.0  \n",
       "4    16:50         21:35   4h 45m      1 stop         No info  13302.0  "
      ]
     },
     "execution_count": 5,
     "metadata": {},
     "output_type": "execute_result"
    }
   ],
   "source": [
    "#Cleaning Step 1: Drop Unnamed: 0 column\n",
    "df.drop(columns=['Unnamed: 0'], inplace=True)\n",
    "df.head()"
   ]
  },
  {
   "cell_type": "code",
   "execution_count": 6,
   "id": "1a5c31ba",
   "metadata": {},
   "outputs": [
    {
     "data": {
      "text/plain": [
       "Airline             object\n",
       "Date_of_Journey     object\n",
       "Source              object\n",
       "Destination         object\n",
       "Route               object\n",
       "Dep_Time            object\n",
       "Arrival_Time        object\n",
       "Duration            object\n",
       "Total_Stops         object\n",
       "Additional_Info     object\n",
       "Price              float64\n",
       "dtype: object"
      ]
     },
     "execution_count": 6,
     "metadata": {},
     "output_type": "execute_result"
    }
   ],
   "source": [
    "#Getting the datatypes of each attribute in the dataframe\n",
    "df.dtypes"
   ]
  },
  {
   "cell_type": "code",
   "execution_count": 7,
   "id": "d2440c71",
   "metadata": {},
   "outputs": [
    {
     "data": {
      "text/html": [
       "<div>\n",
       "<style scoped>\n",
       "    .dataframe tbody tr th:only-of-type {\n",
       "        vertical-align: middle;\n",
       "    }\n",
       "\n",
       "    .dataframe tbody tr th {\n",
       "        vertical-align: top;\n",
       "    }\n",
       "\n",
       "    .dataframe thead th {\n",
       "        text-align: right;\n",
       "    }\n",
       "</style>\n",
       "<table border=\"1\" class=\"dataframe\">\n",
       "  <thead>\n",
       "    <tr style=\"text-align: right;\">\n",
       "      <th></th>\n",
       "      <th>Price</th>\n",
       "    </tr>\n",
       "  </thead>\n",
       "  <tbody>\n",
       "    <tr>\n",
       "      <th>count</th>\n",
       "      <td>10683.000000</td>\n",
       "    </tr>\n",
       "    <tr>\n",
       "      <th>mean</th>\n",
       "      <td>9087.064121</td>\n",
       "    </tr>\n",
       "    <tr>\n",
       "      <th>std</th>\n",
       "      <td>4611.359167</td>\n",
       "    </tr>\n",
       "    <tr>\n",
       "      <th>min</th>\n",
       "      <td>1759.000000</td>\n",
       "    </tr>\n",
       "    <tr>\n",
       "      <th>25%</th>\n",
       "      <td>5277.000000</td>\n",
       "    </tr>\n",
       "    <tr>\n",
       "      <th>50%</th>\n",
       "      <td>8372.000000</td>\n",
       "    </tr>\n",
       "    <tr>\n",
       "      <th>75%</th>\n",
       "      <td>12373.000000</td>\n",
       "    </tr>\n",
       "    <tr>\n",
       "      <th>max</th>\n",
       "      <td>79512.000000</td>\n",
       "    </tr>\n",
       "  </tbody>\n",
       "</table>\n",
       "</div>"
      ],
      "text/plain": [
       "              Price\n",
       "count  10683.000000\n",
       "mean    9087.064121\n",
       "std     4611.359167\n",
       "min     1759.000000\n",
       "25%     5277.000000\n",
       "50%     8372.000000\n",
       "75%    12373.000000\n",
       "max    79512.000000"
      ]
     },
     "execution_count": 7,
     "metadata": {},
     "output_type": "execute_result"
    }
   ],
   "source": [
    "#Desciptive analysis of the dataframe\n",
    "df.describe()"
   ]
  },
  {
   "cell_type": "code",
   "execution_count": 8,
   "id": "67ff1f04",
   "metadata": {},
   "outputs": [
    {
     "data": {
      "text/plain": [
       "Airline               0\n",
       "Date_of_Journey       0\n",
       "Source                0\n",
       "Destination           0\n",
       "Route                 1\n",
       "Dep_Time              0\n",
       "Arrival_Time          0\n",
       "Duration              0\n",
       "Total_Stops           1\n",
       "Additional_Info       0\n",
       "Price              2671\n",
       "dtype: int64"
      ]
     },
     "execution_count": 8,
     "metadata": {},
     "output_type": "execute_result"
    }
   ],
   "source": [
    "#Checking for any Null values in the dataframe\n",
    "df.isnull().sum()"
   ]
  },
  {
   "cell_type": "code",
   "execution_count": 9,
   "id": "8bdb1c69",
   "metadata": {},
   "outputs": [],
   "source": [
    "#Cleaning Step 2: Remove 2 na rows from Route and Total_Stops, Price is not removed because it can be used for testing\n",
    "df=df.dropna(subset=['Route','Total_Stops'])"
   ]
  },
  {
   "cell_type": "code",
   "execution_count": 10,
   "id": "55ccbc1a",
   "metadata": {},
   "outputs": [
    {
     "data": {
      "text/plain": [
       "Airline               0\n",
       "Date_of_Journey       0\n",
       "Source                0\n",
       "Destination           0\n",
       "Route                 0\n",
       "Dep_Time              0\n",
       "Arrival_Time          0\n",
       "Duration              0\n",
       "Total_Stops           0\n",
       "Additional_Info       0\n",
       "Price              2671\n",
       "dtype: int64"
      ]
     },
     "execution_count": 10,
     "metadata": {},
     "output_type": "execute_result"
    }
   ],
   "source": [
    "#Checking for na rows after removal\n",
    "df.isnull().sum()"
   ]
  },
  {
   "cell_type": "code",
   "execution_count": 11,
   "id": "07d4ea5b",
   "metadata": {},
   "outputs": [
    {
     "name": "stdout",
     "output_type": "stream",
     "text": [
      "Total duplicate records: 246\n"
     ]
    }
   ],
   "source": [
    "#Cleaning Step 3: Dropping Duplicate Values\n",
    "print(\"Total duplicate records:\",df.duplicated().sum())\n",
    "df=df.drop_duplicates()"
   ]
  },
  {
   "cell_type": "code",
   "execution_count": 12,
   "id": "486981b5",
   "metadata": {},
   "outputs": [
    {
     "name": "stdout",
     "output_type": "stream",
     "text": [
      "['Banglore' 'Kolkata' 'Delhi' 'Chennai' 'Mumbai']\n",
      "['Banglore' 'Kolkata' 'Delhi' 'Chennai' 'Mumbai']\n"
     ]
    }
   ],
   "source": [
    "#Cleaning Step 4: Clean Source City name Column to remove spelling mistakes\n",
    "\n",
    "print(df['Source'].unique())\n",
    "corrections = {'Kolkato': 'Kolkata', 'Delhe': 'Delhi'}\n",
    "df['Source'] = df['Source'].replace(corrections)\n",
    "print(df['Source'].unique())"
   ]
  },
  {
   "cell_type": "code",
   "execution_count": 13,
   "id": "d834c123",
   "metadata": {},
   "outputs": [
    {
     "name": "stdout",
     "output_type": "stream",
     "text": [
      "['Delhi' 'Banglore' 'Cochin' 'Kolkata' 'Hyderabad']\n"
     ]
    }
   ],
   "source": [
    "#Cleaning step 5: Changing New Delhi in destination to Delhi \n",
    "\n",
    "df.loc[df['Destination'] == 'New Delhi', 'Destination'] = 'Delhi'\n",
    "print(df['Destination'].unique())"
   ]
  },
  {
   "cell_type": "code",
   "execution_count": 14,
   "id": "294b8777",
   "metadata": {},
   "outputs": [
    {
     "name": "stdout",
     "output_type": "stream",
     "text": [
      "['IndiGo' 'Air India' 'Jet Airways' 'SpiceJet' 'Multiple carriers' 'GoAir'\n",
      " 'Vistara' 'Air Asia' 'Vistara Premium economy' 'Jet Airways Business'\n",
      " 'Multiple carriers Premium economy' 'Trujet']\n",
      "['IndiGo' 'Air India' 'Jet Airways' 'SpiceJet' 'Multiple carriers' 'GoAir'\n",
      " 'Vistara' 'Air Asia' 'Vistara Premium economy' 'Jet Airways Business'\n",
      " 'Multiple carriers Premium economy' 'Trujet']\n"
     ]
    }
   ],
   "source": [
    "#Cleaning Step 6: up Airline Name Column to remove spelling mistakes\n",
    "\n",
    "print(df['Airline'].unique())\n",
    "corrections = {'Jet Airwys': 'Jet Airways', 'Indi-Go': 'IndiGo'}\n",
    "df['Airline'] = df['Airline'].replace(corrections)\n",
    "print(df['Airline'].unique())"
   ]
  },
  {
   "cell_type": "code",
   "execution_count": 15,
   "id": "2c8840a5",
   "metadata": {},
   "outputs": [
    {
     "data": {
      "text/html": [
       "<div>\n",
       "<style scoped>\n",
       "    .dataframe tbody tr th:only-of-type {\n",
       "        vertical-align: middle;\n",
       "    }\n",
       "\n",
       "    .dataframe tbody tr th {\n",
       "        vertical-align: top;\n",
       "    }\n",
       "\n",
       "    .dataframe thead th {\n",
       "        text-align: right;\n",
       "    }\n",
       "</style>\n",
       "<table border=\"1\" class=\"dataframe\">\n",
       "  <thead>\n",
       "    <tr style=\"text-align: right;\">\n",
       "      <th></th>\n",
       "      <th>Airline</th>\n",
       "      <th>Date_of_Journey</th>\n",
       "      <th>Source</th>\n",
       "      <th>Destination</th>\n",
       "      <th>Route</th>\n",
       "      <th>Dep_Time</th>\n",
       "      <th>Arrival_Time</th>\n",
       "      <th>Duration</th>\n",
       "      <th>Total_Stops</th>\n",
       "      <th>Additional_Info</th>\n",
       "      <th>Price</th>\n",
       "      <th>Duration_mins</th>\n",
       "    </tr>\n",
       "  </thead>\n",
       "  <tbody>\n",
       "    <tr>\n",
       "      <th>0</th>\n",
       "      <td>IndiGo</td>\n",
       "      <td>24/03/2019</td>\n",
       "      <td>Banglore</td>\n",
       "      <td>Delhi</td>\n",
       "      <td>BLR ? DEL</td>\n",
       "      <td>22:20</td>\n",
       "      <td>01:10 22 Mar</td>\n",
       "      <td>2h 50m</td>\n",
       "      <td>non-stop</td>\n",
       "      <td>No info</td>\n",
       "      <td>3897.0</td>\n",
       "      <td>170</td>\n",
       "    </tr>\n",
       "    <tr>\n",
       "      <th>1</th>\n",
       "      <td>Air India</td>\n",
       "      <td>1/05/2019</td>\n",
       "      <td>Kolkata</td>\n",
       "      <td>Banglore</td>\n",
       "      <td>CCU ? IXR ? BBI ? BLR</td>\n",
       "      <td>05:50</td>\n",
       "      <td>13:15</td>\n",
       "      <td>7h 25m</td>\n",
       "      <td>2 stops</td>\n",
       "      <td>No info</td>\n",
       "      <td>7662.0</td>\n",
       "      <td>445</td>\n",
       "    </tr>\n",
       "    <tr>\n",
       "      <th>2</th>\n",
       "      <td>Jet Airways</td>\n",
       "      <td>9/06/2019</td>\n",
       "      <td>Delhi</td>\n",
       "      <td>Cochin</td>\n",
       "      <td>DEL ? LKO ? BOM ? COK</td>\n",
       "      <td>09:25</td>\n",
       "      <td>04:25 10 Jun</td>\n",
       "      <td>19h</td>\n",
       "      <td>2 stops</td>\n",
       "      <td>No info</td>\n",
       "      <td>13882.0</td>\n",
       "      <td>1140</td>\n",
       "    </tr>\n",
       "    <tr>\n",
       "      <th>3</th>\n",
       "      <td>IndiGo</td>\n",
       "      <td>12/05/2019</td>\n",
       "      <td>Kolkata</td>\n",
       "      <td>Banglore</td>\n",
       "      <td>CCU ? NAG ? BLR</td>\n",
       "      <td>18:05</td>\n",
       "      <td>23:30</td>\n",
       "      <td>5h 25m</td>\n",
       "      <td>1 stop</td>\n",
       "      <td>No info</td>\n",
       "      <td>6218.0</td>\n",
       "      <td>325</td>\n",
       "    </tr>\n",
       "    <tr>\n",
       "      <th>4</th>\n",
       "      <td>IndiGo</td>\n",
       "      <td>01/03/2019</td>\n",
       "      <td>Banglore</td>\n",
       "      <td>Delhi</td>\n",
       "      <td>BLR ? NAG ? DEL</td>\n",
       "      <td>16:50</td>\n",
       "      <td>21:35</td>\n",
       "      <td>4h 45m</td>\n",
       "      <td>1 stop</td>\n",
       "      <td>No info</td>\n",
       "      <td>13302.0</td>\n",
       "      <td>285</td>\n",
       "    </tr>\n",
       "  </tbody>\n",
       "</table>\n",
       "</div>"
      ],
      "text/plain": [
       "       Airline Date_of_Journey    Source Destination                  Route  \\\n",
       "0       IndiGo      24/03/2019  Banglore       Delhi              BLR ? DEL   \n",
       "1    Air India       1/05/2019   Kolkata    Banglore  CCU ? IXR ? BBI ? BLR   \n",
       "2  Jet Airways       9/06/2019     Delhi      Cochin  DEL ? LKO ? BOM ? COK   \n",
       "3       IndiGo      12/05/2019   Kolkata    Banglore        CCU ? NAG ? BLR   \n",
       "4       IndiGo      01/03/2019  Banglore       Delhi        BLR ? NAG ? DEL   \n",
       "\n",
       "  Dep_Time  Arrival_Time Duration Total_Stops Additional_Info    Price  \\\n",
       "0    22:20  01:10 22 Mar   2h 50m    non-stop         No info   3897.0   \n",
       "1    05:50         13:15   7h 25m     2 stops         No info   7662.0   \n",
       "2    09:25  04:25 10 Jun      19h     2 stops         No info  13882.0   \n",
       "3    18:05         23:30   5h 25m      1 stop         No info   6218.0   \n",
       "4    16:50         21:35   4h 45m      1 stop         No info  13302.0   \n",
       "\n",
       "   Duration_mins  \n",
       "0            170  \n",
       "1            445  \n",
       "2           1140  \n",
       "3            325  \n",
       "4            285  "
      ]
     },
     "execution_count": 15,
     "metadata": {},
     "output_type": "execute_result"
    }
   ],
   "source": [
    "#Cleaning Step 7: Converting total duration to a Numeric datatype\n",
    "\n",
    "def convert_to_mins(s):\n",
    "    if('h' not in s):\n",
    "        mins=s.strip('m')\n",
    "        hrs=0\n",
    "    elif('m' not in s):\n",
    "        hrs=s.strip('h')\n",
    "        mins=0\n",
    "    else:\n",
    "        hrs,mins=s.split('h')\n",
    "        mins=mins.strip().strip('m')\n",
    "    total_mins=int(hrs)*60+int(mins)\n",
    "    return total_mins\n",
    "df['Duration_mins']=df['Duration'].apply(convert_to_mins)\n",
    "#df['Duration']=df['Duration'].apply(convert_to_mins)\n",
    "df.head()"
   ]
  },
  {
   "cell_type": "code",
   "execution_count": 16,
   "id": "5459d1f9",
   "metadata": {},
   "outputs": [
    {
     "data": {
      "text/plain": [
       "array(['March', 'May', 'June', 'April'], dtype=object)"
      ]
     },
     "execution_count": 16,
     "metadata": {},
     "output_type": "execute_result"
    }
   ],
   "source": [
    "#Cleaning Step 6: Cleaning the Date of Journey Columns\n",
    "df['Date_of_Journey'].str.split('/')\n",
    "\n",
    "df['Date']=df['Date_of_Journey'].str.split('/').str[0]\n",
    "df['Month']=df['Date_of_Journey'].str.split('/').str[1]\n",
    "df['Year']=df['Date_of_Journey'].str.split('/').str[2]\n",
    "\n",
    "corrections = {'03': 'March', '04': 'April', '05': 'May', '06': 'June'}\n",
    "df['Month'] = df['Month'].replace(corrections)\n",
    "df['Month'].unique()"
   ]
  },
  {
   "cell_type": "code",
   "execution_count": 17,
   "id": "c2bc33ef",
   "metadata": {},
   "outputs": [],
   "source": [
    "#Cleaning Step 8: Extracting Time from Data-Time Column\n",
    "\n",
    "df['Duration_Timestamp'] = ''\n",
    "df['Date_of_Journey'] = pd.to_datetime(df['Date_of_Journey'])\n",
    "df['Dep_Time'] = pd.to_datetime(df['Dep_Time'], format='%H:%M').dt.time\n",
    "df['departure_datetime'] = pd.to_datetime(df['Date_of_Journey'].astype(str) + ' ' + df['Dep_Time'].astype(str))\n",
    "\n",
    "# Function to convert time string to timedelta\n",
    "def parse_duration(duration_str):\n",
    "    parts = duration_str.split()\n",
    "    total_minutes = 0\n",
    "    for part in parts:\n",
    "        if 'h' in part:\n",
    "            total_minutes += int(part[:-1]) * 60\n",
    "        elif 'm' in part:\n",
    "            total_minutes += int(part[:-1])\n",
    "    return pd.Timedelta(minutes=total_minutes)\n",
    "\n",
    "df['Duration_Timestamp'] = df['Duration'].apply(parse_duration)"
   ]
  },
  {
   "cell_type": "code",
   "execution_count": 18,
   "id": "ea3f415e",
   "metadata": {},
   "outputs": [
    {
     "data": {
      "text/plain": [
       "0   0 days 02:50:00\n",
       "1   0 days 07:25:00\n",
       "2   0 days 19:00:00\n",
       "3   0 days 05:25:00\n",
       "4   0 days 04:45:00\n",
       "Name: Duration_Timestamp, dtype: timedelta64[ns]"
      ]
     },
     "execution_count": 18,
     "metadata": {},
     "output_type": "execute_result"
    }
   ],
   "source": [
    "#Getting top 5 records in duration_timestamp\n",
    "df['Duration_Timestamp'].head()"
   ]
  },
  {
   "cell_type": "code",
   "execution_count": 19,
   "id": "6f3e16e3",
   "metadata": {},
   "outputs": [
    {
     "data": {
      "text/plain": [
       "0   2019-03-25 01:10:00\n",
       "1   2019-01-05 13:15:00\n",
       "2   2019-09-07 04:25:00\n",
       "3   2019-12-05 23:30:00\n",
       "4   2019-01-03 21:35:00\n",
       "Name: arrival_datetime, dtype: datetime64[ns]"
      ]
     },
     "execution_count": 19,
     "metadata": {},
     "output_type": "execute_result"
    }
   ],
   "source": [
    "# Create Arrival Date Time Column with Timestamp\n",
    "df['arrival_datetime'] = df['departure_datetime'] + df['Duration_Timestamp']\n",
    "df['arrival_datetime'].head()"
   ]
  },
  {
   "cell_type": "code",
   "execution_count": 20,
   "id": "295b72a0",
   "metadata": {},
   "outputs": [],
   "source": [
    "#Cleaning Step 9: Converting Total Stops to numerical datatype\n",
    "def conv_tot_stops(s):\n",
    "    if(s=='non-stop'):\n",
    "        return 0\n",
    "    else:\n",
    "        stop=s.split()\n",
    "        return int(stop[0])\n",
    "df['Total_Stops']=df['Total_Stops'].apply(conv_tot_stops)"
   ]
  },
  {
   "cell_type": "code",
   "execution_count": 21,
   "id": "f2a8e1f9",
   "metadata": {},
   "outputs": [
    {
     "name": "stdout",
     "output_type": "stream",
     "text": [
      "0        0\n",
      "1        2\n",
      "2        2\n",
      "3        1\n",
      "4        1\n",
      "        ..\n",
      "13349    1\n",
      "13350    0\n",
      "13351    1\n",
      "13352    1\n",
      "13353    1\n",
      "Name: Total_Stops, Length: 13107, dtype: int64\n"
     ]
    }
   ],
   "source": [
    "print(df['Total_Stops'])"
   ]
  },
  {
   "cell_type": "code",
   "execution_count": 22,
   "id": "e370379a",
   "metadata": {},
   "outputs": [],
   "source": [
    "#Cleaning Step 10: Encoding Airline Name\n",
    "label_encoder = LabelEncoder()\n",
    "df['Airline_LabelEncoded'] = label_encoder.fit_transform(df['Airline'])"
   ]
  },
  {
   "cell_type": "code",
   "execution_count": 23,
   "id": "7501821e",
   "metadata": {},
   "outputs": [],
   "source": [
    "#Cleaning Step 11: Encoding Source City Name\n",
    "label_encoder = LabelEncoder()\n",
    "df['Source_LabelEncoded'] = label_encoder.fit_transform(df['Source'])"
   ]
  },
  {
   "cell_type": "code",
   "execution_count": 24,
   "id": "a2aee2df",
   "metadata": {},
   "outputs": [],
   "source": [
    "#Cleaning Step 12: Encoding Destination City Name\n",
    "label_encoder = LabelEncoder()\n",
    "df['Destination_LabelEncoded'] = label_encoder.fit_transform(df['Destination'])"
   ]
  },
  {
   "cell_type": "code",
   "execution_count": 25,
   "id": "487df2d1",
   "metadata": {},
   "outputs": [],
   "source": [
    "#Cleaning Step 13: Encoding Destination City Name\n",
    "label_encoder = LabelEncoder()\n",
    "df['Duration_LabelEncoded'] = label_encoder.fit_transform(df['Duration'])"
   ]
  },
  {
   "cell_type": "code",
   "execution_count": 26,
   "id": "932c4e6e",
   "metadata": {},
   "outputs": [],
   "source": [
    "#Cleaning Step 14: Encoding Destination City Name\n",
    "label_encoder = LabelEncoder()\n",
    "df['Additional_Info_LabelEncoded'] = label_encoder.fit_transform(df['Additional_Info'])"
   ]
  },
  {
   "cell_type": "code",
   "execution_count": 27,
   "id": "d15cc64e",
   "metadata": {},
   "outputs": [
    {
     "name": "stdout",
     "output_type": "stream",
     "text": [
      "Outliers:\n",
      "123      27430.0\n",
      "396      36983.0\n",
      "486      26890.0\n",
      "510      26890.0\n",
      "597      25139.0\n",
      "          ...   \n",
      "10353    24210.0\n",
      "10364    57209.0\n",
      "10383    26890.0\n",
      "10439    31825.0\n",
      "10511    26480.0\n",
      "Name: Price, Length: 94, dtype: float64\n",
      "94\n"
     ]
    }
   ],
   "source": [
    "#Function to detect outliers in specific column\n",
    "def detect_outliers_iqr(column):\n",
    "    q1 = column.quantile(0.25)\n",
    "    q3 = column.quantile(0.75)\n",
    "    iqr = q3 - q1\n",
    "    lower_bound = q1 - 1.5 * iqr\n",
    "    upper_bound = q3 + 1.5 * iqr\n",
    "    outliers = column[(column < lower_bound) | (column > upper_bound)]\n",
    "    return outliers\n",
    "\n",
    "# Detecting outliers in the 'Value' column\n",
    "outliers = detect_outliers_iqr(df['Price'])\n",
    "print(\"Outliers:\")\n",
    "print(outliers)\n",
    "print(len(outliers))"
   ]
  },
  {
   "cell_type": "code",
   "execution_count": 28,
   "id": "9638aaa6",
   "metadata": {},
   "outputs": [
    {
     "data": {
      "text/plain": [
       "(13107, 23)"
      ]
     },
     "execution_count": 28,
     "metadata": {},
     "output_type": "execute_result"
    }
   ],
   "source": [
    "df.shape"
   ]
  },
  {
   "cell_type": "code",
   "execution_count": 29,
   "id": "516399b2",
   "metadata": {},
   "outputs": [
    {
     "name": "stdout",
     "output_type": "stream",
     "text": [
      "Cleaned DataFrame:\n",
      "           Airline Date_of_Journey    Source Destination  \\\n",
      "0           IndiGo      2019-03-24  Banglore       Delhi   \n",
      "1        Air India      2019-01-05   Kolkata    Banglore   \n",
      "2      Jet Airways      2019-09-06     Delhi      Cochin   \n",
      "3           IndiGo      2019-12-05   Kolkata    Banglore   \n",
      "4           IndiGo      2019-01-03  Banglore       Delhi   \n",
      "...            ...             ...       ...         ...   \n",
      "10678     Air Asia      2019-09-04   Kolkata    Banglore   \n",
      "10679    Air India      2019-04-27   Kolkata    Banglore   \n",
      "10680  Jet Airways      2019-04-27  Banglore       Delhi   \n",
      "10681      Vistara      2019-01-03  Banglore       Delhi   \n",
      "10682    Air India      2019-09-05     Delhi      Cochin   \n",
      "\n",
      "                       Route  Dep_Time  Arrival_Time Duration  Total_Stops  \\\n",
      "0                  BLR ? DEL  22:20:00  01:10 22 Mar   2h 50m            0   \n",
      "1      CCU ? IXR ? BBI ? BLR  05:50:00         13:15   7h 25m            2   \n",
      "2      DEL ? LKO ? BOM ? COK  09:25:00  04:25 10 Jun      19h            2   \n",
      "3            CCU ? NAG ? BLR  18:05:00         23:30   5h 25m            1   \n",
      "4            BLR ? NAG ? DEL  16:50:00         21:35   4h 45m            1   \n",
      "...                      ...       ...           ...      ...          ...   \n",
      "10678              CCU ? BLR  19:55:00         22:25   2h 30m            0   \n",
      "10679              CCU ? BLR  20:45:00         23:20   2h 35m            0   \n",
      "10680              BLR ? DEL  08:20:00         11:20       3h            0   \n",
      "10681              BLR ? DEL  11:30:00         14:10   2h 40m            0   \n",
      "10682  DEL ? GOI ? BOM ? COK  10:55:00         19:15   8h 20m            2   \n",
      "\n",
      "      Additional_Info  ...  Month  Year Duration_Timestamp  \\\n",
      "0             No info  ...  March  2019    0 days 02:50:00   \n",
      "1             No info  ...    May  2019    0 days 07:25:00   \n",
      "2             No info  ...   June  2019    0 days 19:00:00   \n",
      "3             No info  ...    May  2019    0 days 05:25:00   \n",
      "4             No info  ...  March  2019    0 days 04:45:00   \n",
      "...               ...  ...    ...   ...                ...   \n",
      "10678         No info  ...  April  2019    0 days 02:30:00   \n",
      "10679         No info  ...  April  2019    0 days 02:35:00   \n",
      "10680         No info  ...  April  2019    0 days 03:00:00   \n",
      "10681         No info  ...  March  2019    0 days 02:40:00   \n",
      "10682         No info  ...    May  2019    0 days 08:20:00   \n",
      "\n",
      "       departure_datetime    arrival_datetime Airline_LabelEncoded  \\\n",
      "0     2019-03-24 22:20:00 2019-03-25 01:10:00                    3   \n",
      "1     2019-01-05 05:50:00 2019-01-05 13:15:00                    1   \n",
      "2     2019-09-06 09:25:00 2019-09-07 04:25:00                    4   \n",
      "3     2019-12-05 18:05:00 2019-12-05 23:30:00                    3   \n",
      "4     2019-01-03 16:50:00 2019-01-03 21:35:00                    3   \n",
      "...                   ...                 ...                  ...   \n",
      "10678 2019-09-04 19:55:00 2019-09-04 22:25:00                    0   \n",
      "10679 2019-04-27 20:45:00 2019-04-27 23:20:00                    1   \n",
      "10680 2019-04-27 08:20:00 2019-04-27 11:20:00                    4   \n",
      "10681 2019-01-03 11:30:00 2019-01-03 14:10:00                   10   \n",
      "10682 2019-09-05 10:55:00 2019-09-05 19:15:00                    1   \n",
      "\n",
      "      Source_LabelEncoded Destination_LabelEncoded  Duration_LabelEncoded  \\\n",
      "0                       0                        2                    242   \n",
      "1                       3                        0                    342   \n",
      "2                       2                        1                    106   \n",
      "3                       3                        0                    317   \n",
      "4                       0                        2                    309   \n",
      "...                   ...                      ...                    ...   \n",
      "10678                   3                        0                    238   \n",
      "10679                   3                        0                    239   \n",
      "10680                   0                        2                    284   \n",
      "10681                   0                        2                    240   \n",
      "10682                   2                        1                    353   \n",
      "\n",
      "       Additional_Info_LabelEncoded  \n",
      "0                                 8  \n",
      "1                                 8  \n",
      "2                                 8  \n",
      "3                                 8  \n",
      "4                                 8  \n",
      "...                             ...  \n",
      "10678                             8  \n",
      "10679                             8  \n",
      "10680                             8  \n",
      "10681                             8  \n",
      "10682                             8  \n",
      "\n",
      "[10368 rows x 23 columns]\n"
     ]
    }
   ],
   "source": [
    "# Function to detect outliers using IQR method and removing it\n",
    "def remove_outliers_iqr(column):\n",
    "    q1 = column.quantile(0.25)\n",
    "    q3 = column.quantile(0.75)\n",
    "    iqr = q3 - q1\n",
    "    lower_bound = q1 - 1.5 * iqr\n",
    "    upper_bound = q3 + 1.5 * iqr\n",
    "    filtered_data = df[(df[column.name] >= lower_bound) & (df[column.name] <= upper_bound)]\n",
    "    return filtered_data\n",
    "\n",
    "# Removing outliers from the 'Value' column\n",
    "df_cleaned = remove_outliers_iqr(df['Price'])\n",
    "print(\"Cleaned DataFrame:\")\n",
    "print(df_cleaned)"
   ]
  },
  {
   "cell_type": "code",
   "execution_count": 30,
   "id": "44198ef2",
   "metadata": {},
   "outputs": [],
   "source": [
    "#Overwriting the cleaned dataframe to variable 'df'\n",
    "df = df_cleaned"
   ]
  },
  {
   "cell_type": "code",
   "execution_count": 31,
   "id": "f58869f9",
   "metadata": {},
   "outputs": [],
   "source": [
    "#Exploratory Data Analytics"
   ]
  },
  {
   "cell_type": "code",
   "execution_count": 32,
   "id": "fb68b60d",
   "metadata": {},
   "outputs": [
    {
     "data": {
      "image/png": "[encoded data removed]",
      "text/plain": [
       "<Figure size 432x288 with 1 Axes>"
      ]
     },
     "metadata": {
      "needs_background": "light"
     },
     "output_type": "display_data"
    }
   ],
   "source": [
    "#EDA 1: Avg Prices per month\n",
    "average_prices = df.groupby('Month')['Price'].mean()\n",
    "\n",
    "# Plot the bar graph\n",
    "average_prices.plot(kind='bar', color='skyblue')\n",
    "plt.xlabel('Month')\n",
    "plt.ylabel('Average Prices')\n",
    "plt.title('Average Prices per Month')\n",
    "plt.xticks(rotation=45) \n",
    "plt.show()\n"
   ]
  },
  {
   "cell_type": "code",
   "execution_count": 33,
   "id": "595ffacf",
   "metadata": {},
   "outputs": [
    {
     "data": {
      "image/png": "[encoded data removed]",
      "text/plain": [
       "<Figure size 432x288 with 1 Axes>"
      ]
     },
     "metadata": {
      "needs_background": "light"
     },
     "output_type": "display_data"
    }
   ],
   "source": [
    "#EDA 2: Average Prices per Departure Time Slot\n",
    "def time_slot(time_value):\n",
    "    time_obj = time_value.time()\n",
    "    \n",
    "    if time_obj >= pd.Timestamp('00:00:00').time() and time_obj <= pd.Timestamp('06:00:00').time():\n",
    "        return '12AM to 6AM'\n",
    "    elif time_obj > pd.Timestamp('06:00:00').time() and time_obj <= pd.Timestamp('12:00:00').time():\n",
    "        return '6AM to 12PM'\n",
    "    elif time_obj > pd.Timestamp('12:00:00').time() and time_obj <= pd.Timestamp('18:00:00').time():\n",
    "        return '12 PM to 6PM'\n",
    "    else:\n",
    "        return '6PM to 12AM'\n",
    "    \n",
    "df['departure_slot'] = df['departure_datetime'].apply(time_slot)\n",
    "df['arrival_slot'] = df['arrival_datetime'].apply(time_slot)\n",
    "\n",
    "df['day_of_departure'] = df['departure_datetime'].dt.strftime('%A')\n",
    "df['day_of_arrival'] = df['arrival_datetime'].dt.strftime('%A')\n",
    "\n",
    "average_prices = df.groupby('departure_slot')['Price'].mean()\n",
    "# Plotting the bar graph\n",
    "average_prices.plot(kind='bar', color='skyblue')\n",
    "plt.xlabel('Departure')\n",
    "plt.ylabel('Average Prices')\n",
    "plt.title('Average Prices per Departure Slot')\n",
    "plt.xticks(rotation=45) \n",
    "plt.show()"
   ]
  },
  {
   "cell_type": "code",
   "execution_count": 34,
   "id": "085c582a",
   "metadata": {},
   "outputs": [
    {
     "data": {
      "text/html": [
       "<div>\n",
       "<style scoped>\n",
       "    .dataframe tbody tr th:only-of-type {\n",
       "        vertical-align: middle;\n",
       "    }\n",
       "\n",
       "    .dataframe tbody tr th {\n",
       "        vertical-align: top;\n",
       "    }\n",
       "\n",
       "    .dataframe thead th {\n",
       "        text-align: right;\n",
       "    }\n",
       "</style>\n",
       "<table border=\"1\" class=\"dataframe\">\n",
       "  <thead>\n",
       "    <tr style=\"text-align: right;\">\n",
       "      <th></th>\n",
       "      <th>Airline</th>\n",
       "      <th>Date_of_Journey</th>\n",
       "      <th>Source</th>\n",
       "      <th>Destination</th>\n",
       "      <th>Route</th>\n",
       "      <th>Dep_Time</th>\n",
       "      <th>Arrival_Time</th>\n",
       "      <th>Duration</th>\n",
       "      <th>Total_Stops</th>\n",
       "      <th>Additional_Info</th>\n",
       "      <th>...</th>\n",
       "      <th>arrival_datetime</th>\n",
       "      <th>Airline_LabelEncoded</th>\n",
       "      <th>Source_LabelEncoded</th>\n",
       "      <th>Destination_LabelEncoded</th>\n",
       "      <th>Duration_LabelEncoded</th>\n",
       "      <th>Additional_Info_LabelEncoded</th>\n",
       "      <th>departure_slot</th>\n",
       "      <th>arrival_slot</th>\n",
       "      <th>day_of_departure</th>\n",
       "      <th>day_of_arrival</th>\n",
       "    </tr>\n",
       "  </thead>\n",
       "  <tbody>\n",
       "    <tr>\n",
       "      <th>0</th>\n",
       "      <td>IndiGo</td>\n",
       "      <td>2019-03-24</td>\n",
       "      <td>Banglore</td>\n",
       "      <td>Delhi</td>\n",
       "      <td>BLR ? DEL</td>\n",
       "      <td>22:20:00</td>\n",
       "      <td>01:10 22 Mar</td>\n",
       "      <td>2h 50m</td>\n",
       "      <td>0</td>\n",
       "      <td>No info</td>\n",
       "      <td>...</td>\n",
       "      <td>2019-03-25 01:10:00</td>\n",
       "      <td>3</td>\n",
       "      <td>0</td>\n",
       "      <td>2</td>\n",
       "      <td>242</td>\n",
       "      <td>8</td>\n",
       "      <td>6PM to 12AM</td>\n",
       "      <td>12AM to 6AM</td>\n",
       "      <td>Sunday</td>\n",
       "      <td>Monday</td>\n",
       "    </tr>\n",
       "    <tr>\n",
       "      <th>1</th>\n",
       "      <td>Air India</td>\n",
       "      <td>2019-01-05</td>\n",
       "      <td>Kolkata</td>\n",
       "      <td>Banglore</td>\n",
       "      <td>CCU ? IXR ? BBI ? BLR</td>\n",
       "      <td>05:50:00</td>\n",
       "      <td>13:15</td>\n",
       "      <td>7h 25m</td>\n",
       "      <td>2</td>\n",
       "      <td>No info</td>\n",
       "      <td>...</td>\n",
       "      <td>2019-01-05 13:15:00</td>\n",
       "      <td>1</td>\n",
       "      <td>3</td>\n",
       "      <td>0</td>\n",
       "      <td>342</td>\n",
       "      <td>8</td>\n",
       "      <td>12AM to 6AM</td>\n",
       "      <td>12 PM to 6PM</td>\n",
       "      <td>Saturday</td>\n",
       "      <td>Saturday</td>\n",
       "    </tr>\n",
       "    <tr>\n",
       "      <th>2</th>\n",
       "      <td>Jet Airways</td>\n",
       "      <td>2019-09-06</td>\n",
       "      <td>Delhi</td>\n",
       "      <td>Cochin</td>\n",
       "      <td>DEL ? LKO ? BOM ? COK</td>\n",
       "      <td>09:25:00</td>\n",
       "      <td>04:25 10 Jun</td>\n",
       "      <td>19h</td>\n",
       "      <td>2</td>\n",
       "      <td>No info</td>\n",
       "      <td>...</td>\n",
       "      <td>2019-09-07 04:25:00</td>\n",
       "      <td>4</td>\n",
       "      <td>2</td>\n",
       "      <td>1</td>\n",
       "      <td>106</td>\n",
       "      <td>8</td>\n",
       "      <td>6AM to 12PM</td>\n",
       "      <td>12AM to 6AM</td>\n",
       "      <td>Friday</td>\n",
       "      <td>Saturday</td>\n",
       "    </tr>\n",
       "    <tr>\n",
       "      <th>3</th>\n",
       "      <td>IndiGo</td>\n",
       "      <td>2019-12-05</td>\n",
       "      <td>Kolkata</td>\n",
       "      <td>Banglore</td>\n",
       "      <td>CCU ? NAG ? BLR</td>\n",
       "      <td>18:05:00</td>\n",
       "      <td>23:30</td>\n",
       "      <td>5h 25m</td>\n",
       "      <td>1</td>\n",
       "      <td>No info</td>\n",
       "      <td>...</td>\n",
       "      <td>2019-12-05 23:30:00</td>\n",
       "      <td>3</td>\n",
       "      <td>3</td>\n",
       "      <td>0</td>\n",
       "      <td>317</td>\n",
       "      <td>8</td>\n",
       "      <td>6PM to 12AM</td>\n",
       "      <td>6PM to 12AM</td>\n",
       "      <td>Thursday</td>\n",
       "      <td>Thursday</td>\n",
       "    </tr>\n",
       "    <tr>\n",
       "      <th>4</th>\n",
       "      <td>IndiGo</td>\n",
       "      <td>2019-01-03</td>\n",
       "      <td>Banglore</td>\n",
       "      <td>Delhi</td>\n",
       "      <td>BLR ? NAG ? DEL</td>\n",
       "      <td>16:50:00</td>\n",
       "      <td>21:35</td>\n",
       "      <td>4h 45m</td>\n",
       "      <td>1</td>\n",
       "      <td>No info</td>\n",
       "      <td>...</td>\n",
       "      <td>2019-01-03 21:35:00</td>\n",
       "      <td>3</td>\n",
       "      <td>0</td>\n",
       "      <td>2</td>\n",
       "      <td>309</td>\n",
       "      <td>8</td>\n",
       "      <td>12 PM to 6PM</td>\n",
       "      <td>6PM to 12AM</td>\n",
       "      <td>Thursday</td>\n",
       "      <td>Thursday</td>\n",
       "    </tr>\n",
       "  </tbody>\n",
       "</table>\n",
       "<p>5 rows × 27 columns</p>\n",
       "</div>"
      ],
      "text/plain": [
       "       Airline Date_of_Journey    Source Destination                  Route  \\\n",
       "0       IndiGo      2019-03-24  Banglore       Delhi              BLR ? DEL   \n",
       "1    Air India      2019-01-05   Kolkata    Banglore  CCU ? IXR ? BBI ? BLR   \n",
       "2  Jet Airways      2019-09-06     Delhi      Cochin  DEL ? LKO ? BOM ? COK   \n",
       "3       IndiGo      2019-12-05   Kolkata    Banglore        CCU ? NAG ? BLR   \n",
       "4       IndiGo      2019-01-03  Banglore       Delhi        BLR ? NAG ? DEL   \n",
       "\n",
       "   Dep_Time  Arrival_Time Duration  Total_Stops Additional_Info  ...  \\\n",
       "0  22:20:00  01:10 22 Mar   2h 50m            0         No info  ...   \n",
       "1  05:50:00         13:15   7h 25m            2         No info  ...   \n",
       "2  09:25:00  04:25 10 Jun      19h            2         No info  ...   \n",
       "3  18:05:00         23:30   5h 25m            1         No info  ...   \n",
       "4  16:50:00         21:35   4h 45m            1         No info  ...   \n",
       "\n",
       "     arrival_datetime  Airline_LabelEncoded Source_LabelEncoded  \\\n",
       "0 2019-03-25 01:10:00                     3                   0   \n",
       "1 2019-01-05 13:15:00                     1                   3   \n",
       "2 2019-09-07 04:25:00                     4                   2   \n",
       "3 2019-12-05 23:30:00                     3                   3   \n",
       "4 2019-01-03 21:35:00                     3                   0   \n",
       "\n",
       "  Destination_LabelEncoded Duration_LabelEncoded Additional_Info_LabelEncoded  \\\n",
       "0                        2                   242                            8   \n",
       "1                        0                   342                            8   \n",
       "2                        1                   106                            8   \n",
       "3                        0                   317                            8   \n",
       "4                        2                   309                            8   \n",
       "\n",
       "  departure_slot  arrival_slot  day_of_departure  day_of_arrival  \n",
       "0    6PM to 12AM   12AM to 6AM            Sunday          Monday  \n",
       "1    12AM to 6AM  12 PM to 6PM          Saturday        Saturday  \n",
       "2    6AM to 12PM   12AM to 6AM            Friday        Saturday  \n",
       "3    6PM to 12AM   6PM to 12AM          Thursday        Thursday  \n",
       "4   12 PM to 6PM   6PM to 12AM          Thursday        Thursday  \n",
       "\n",
       "[5 rows x 27 columns]"
      ]
     },
     "execution_count": 34,
     "metadata": {},
     "output_type": "execute_result"
    }
   ],
   "source": [
    "df.head()"
   ]
  },
  {
   "cell_type": "code",
   "execution_count": 35,
   "id": "bfbb2f72",
   "metadata": {},
   "outputs": [
    {
     "data": {
      "image/png": "[encoded data removed]",
      "text/plain": [
       "<Figure size 432x288 with 1 Axes>"
      ]
     },
     "metadata": {
      "needs_background": "light"
     },
     "output_type": "display_data"
    }
   ],
   "source": [
    "#EDA 3: Average Prices per Arrival Time Slot\n",
    "\n",
    "average_prices = df.groupby('arrival_slot')['Price'].mean()\n",
    "# Plotting the bar graph\n",
    "average_prices.plot(kind='bar', color='skyblue')\n",
    "plt.xlabel('Arrival')\n",
    "plt.ylabel('Average Prices')\n",
    "plt.title('Average Prices per Arrival Slot')\n",
    "plt.xticks(rotation=45) \n",
    "plt.show()"
   ]
  },
  {
   "cell_type": "code",
   "execution_count": 36,
   "id": "93cf0944",
   "metadata": {},
   "outputs": [
    {
     "data": {
      "image/png": "[encoded data removed]",
      "text/plain": [
       "<Figure size 432x288 with 1 Axes>"
      ]
     },
     "metadata": {
      "needs_background": "light"
     },
     "output_type": "display_data"
    }
   ],
   "source": [
    "#EDA 4: Average Prices per Day of the Week\n",
    "average_prices = df.groupby('day_of_departure')['Price'].mean()\n",
    "# Plotting the bar graph\n",
    "average_prices.plot(kind='bar', color='skyblue')\n",
    "plt.xlabel('Day of Departure')\n",
    "plt.ylabel('Average Prices')\n",
    "plt.title('Average Prices per Departure Day')\n",
    "plt.xticks(rotation=45)  # Rotating the x-axis labels for better readability\n",
    "plt.show()"
   ]
  },
  {
   "cell_type": "code",
   "execution_count": 37,
   "id": "b359a15c",
   "metadata": {},
   "outputs": [
    {
     "data": {
      "image/png": "[encoded data removed]",
      "text/plain": [
       "<Figure size 432x288 with 1 Axes>"
      ]
     },
     "metadata": {},
     "output_type": "display_data"
    }
   ],
   "source": [
    "#EDA 5: Share of Flights by Airline\n",
    "plt.pie(df['Airline'].value_counts().values[:5], labels=df['Airline'].value_counts().index[:5], autopct='%1.5f%%');"
   ]
  },
  {
   "cell_type": "code",
   "execution_count": 38,
   "id": "2ca94048",
   "metadata": {},
   "outputs": [
    {
     "data": {
      "text/plain": [
       "0         170\n",
       "1         445\n",
       "2        1140\n",
       "3         325\n",
       "4         285\n",
       "         ... \n",
       "10678     150\n",
       "10679     155\n",
       "10680     180\n",
       "10681     160\n",
       "10682     500\n",
       "Name: Duration_mins, Length: 10368, dtype: int64"
      ]
     },
     "execution_count": 38,
     "metadata": {},
     "output_type": "execute_result"
    }
   ],
   "source": [
    "df['Duration_mins']"
   ]
  },
  {
   "cell_type": "code",
   "execution_count": 39,
   "id": "e9e338b9",
   "metadata": {},
   "outputs": [
    {
     "data": {
      "image/png": "[encoded data removed]",
      "text/plain": [
       "<Figure size 432x288 with 1 Axes>"
      ]
     },
     "metadata": {
      "needs_background": "light"
     },
     "output_type": "display_data"
    }
   ],
   "source": [
    "#EDA 6: Price vs Duration of Flight\n",
    "plt.scatter(df['Duration_mins'][:10684],df['Price'][:10684])\n",
    "plt.xlabel(\"Duration(mins)\")\n",
    "plt.ylabel(\"Price\")\n",
    "plt.title(\"Scatter plot b/w Price and Duration\")\n",
    "plt.show()"
   ]
  },
  {
   "cell_type": "code",
   "execution_count": 40,
   "id": "94eebd2f",
   "metadata": {},
   "outputs": [
    {
     "data": {
      "image/png": "[encoded data removed]",
      "text/plain": [
       "<Figure size 432x288 with 1 Axes>"
      ]
     },
     "metadata": {
      "needs_background": "light"
     },
     "output_type": "display_data"
    }
   ],
   "source": [
    "#EDA 7: Prices Histogram\n",
    "plt.hist(df['Price'], bins=8, edgecolor='black')  \n",
    "plt.xlabel('Prices')\n",
    "plt.ylabel('Frequency')\n",
    "plt.title('Distribution of prices in dataset')\n",
    "plt.show()"
   ]
  },
  {
   "cell_type": "code",
   "execution_count": 41,
   "id": "ca0a27fe",
   "metadata": {},
   "outputs": [
    {
     "data": {
      "image/png": "[encoded data removed]",
      "text/plain": [
       "<Figure size 432x288 with 1 Axes>"
      ]
     },
     "metadata": {
      "needs_background": "light"
     },
     "output_type": "display_data"
    }
   ],
   "source": [
    "#EDA 8: Average price on weekdays and weekends\n",
    "\n",
    "df['day_type'] = df['day_of_departure'].apply(lambda x: 1 if x in ['Saturday', 'Sunday'] else 0)\n",
    "avg_vals=df.groupby('day_type')['Price'].mean()\n",
    "plt.bar(['Weekday','Weekend'],avg_vals.values, color='skyblue')\n",
    "for i,val in enumerate(avg_vals):\n",
    "  plt.text(i,val,str(round(val, 2)),ha='center')\n",
    "plt.xlabel(\"Day Type\")\n",
    "plt.ylabel(\"Avg price\")\n",
    "plt.title(\"Average price comparision between weekend and weekdays\")\n",
    "plt.show()"
   ]
  },
  {
   "cell_type": "code",
   "execution_count": 42,
   "id": "2554c30a",
   "metadata": {},
   "outputs": [
    {
     "data": {
      "image/png": "[encoded data removed]",
      "text/plain": [
       "<Figure size 432x288 with 1 Axes>"
      ]
     },
     "metadata": {
      "needs_background": "light"
     },
     "output_type": "display_data"
    }
   ],
   "source": [
    "# EDA 9: Box plot between total stops and duration in mins\n",
    "\n",
    "plt.title(\"Box plot between Total stops and Duration\")\n",
    "sns.boxplot(data=df,x=df['Total_Stops'],y=df['Duration_mins'])\n",
    "plt.show()"
   ]
  },
  {
   "cell_type": "code",
   "execution_count": 43,
   "id": "266a1cb2",
   "metadata": {},
   "outputs": [
    {
     "data": {
      "image/png": "[encoded data removed]",
      "text/plain": [
       "<Figure size 720x720 with 2 Axes>"
      ]
     },
     "metadata": {
      "needs_background": "light"
     },
     "output_type": "display_data"
    }
   ],
   "source": [
    "#EDA 10: Correlation heatmap between different numerical features\n",
    "plt.figure(figsize=(10,10))\n",
    "sns.heatmap(df.corr(),annot=True)\n",
    "plt.title(\"Correlation Heatmap\")\n",
    "plt.show()"
   ]
  },
  {
   "cell_type": "code",
   "execution_count": null,
   "id": "07d43d82",
   "metadata": {},
   "outputs": [],
   "source": []
  },
  {
   "cell_type": "code",
   "execution_count": null,
   "id": "578e3474",
   "metadata": {},
   "outputs": [],
   "source": []
  },
  {
   "cell_type": "code",
   "execution_count": null,
   "id": "dc515aa0",
   "metadata": {},
   "outputs": [],
   "source": []
  }
 ],
 "metadata": {
  "kernelspec": {
   "display_name": "Python 3 (ipykernel)",
   "language": "python",
   "name": "python3"
  },
  "language_info": {
   "codemirror_mode": {
    "name": "ipython",
    "version": 3
   },
   "file_extension": ".py",
   "mimetype": "text/x-python",
   "name": "python",
   "nbconvert_exporter": "python",
   "pygments_lexer": "ipython3",
   "version": "3.7.7"
  }
 },
 "nbformat": 4,
 "nbformat_minor": 5
}
